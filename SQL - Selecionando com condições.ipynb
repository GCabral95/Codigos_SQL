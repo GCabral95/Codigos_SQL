{
 "cells": [
  {
   "cell_type": "code",
   "execution_count": 1,
   "metadata": {},
   "outputs": [
    {
     "name": "stdout",
     "output_type": "stream",
     "text": [
      "Requirement already satisfied: mysql-connector-python in c:\\users\\gcabr\\anaconda3\\lib\\site-packages (8.0.23)\n",
      "Requirement already satisfied: protobuf>=3.0.0 in c:\\users\\gcabr\\anaconda3\\lib\\site-packages (from mysql-connector-python) (3.15.1)\n",
      "Requirement already satisfied: six>=1.9 in c:\\users\\gcabr\\anaconda3\\lib\\site-packages (from protobuf>=3.0.0->mysql-connector-python) (1.15.0)\n"
     ]
    }
   ],
   "source": [
    "! pip install mysql-connector-python"
   ]
  },
  {
   "cell_type": "code",
   "execution_count": 2,
   "metadata": {},
   "outputs": [],
   "source": [
    "import mysql.connector\n",
    "\n",
    "mydb = mysql.connector.connect(host='localhost', user='root', passwd='xxxxxxxxx')"
   ]
  },
  {
   "cell_type": "code",
   "execution_count": 3,
   "metadata": {},
   "outputs": [
    {
     "name": "stdout",
     "output_type": "stream",
     "text": [
      "<mysql.connector.connection_cext.CMySQLConnection object at 0x00000228A4977748>\n"
     ]
    }
   ],
   "source": [
    "print(mydb)"
   ]
  },
  {
   "cell_type": "code",
   "execution_count": 4,
   "metadata": {},
   "outputs": [],
   "source": [
    "mycursor = mydb.cursor()"
   ]
  },
  {
   "cell_type": "code",
   "execution_count": 5,
   "metadata": {},
   "outputs": [],
   "source": [
    "mycursor.execute(\"USE banco_basico\")"
   ]
  },
  {
   "cell_type": "markdown",
   "metadata": {},
   "source": [
    "* Mostrando as colunas"
   ]
  },
  {
   "cell_type": "code",
   "execution_count": 6,
   "metadata": {},
   "outputs": [
    {
     "name": "stdout",
     "output_type": "stream",
     "text": [
      "('X', b'int', 'YES', '', None, '')\n",
      "('Y', b'text', 'YES', '', None, '')\n",
      "('Z', b'text', 'YES', '', None, '')\n"
     ]
    }
   ],
   "source": [
    "mycursor.execute(\"\"\"SHOW COLUMNS FROM base;\n",
    "\"\"\")\n",
    "myresult = mycursor.fetchall()\n",
    "for x in myresult:\n",
    "  print(x)"
   ]
  },
  {
   "cell_type": "markdown",
   "metadata": {},
   "source": [
    "* Visão inicial dos dados"
   ]
  },
  {
   "cell_type": "code",
   "execution_count": 7,
   "metadata": {},
   "outputs": [
    {
     "name": "stdout",
     "output_type": "stream",
     "text": [
      "(8, 'A', '39_115')\n",
      "(20, 'B', '26_105')\n",
      "(29, 'C', '82_152')\n",
      "(36, 'D', '71_137')\n",
      "(37, 'E', '59_112')\n"
     ]
    }
   ],
   "source": [
    "mycursor.execute(\"SELECT * FROM base LIMIT 5\")\n",
    "myresult = mycursor.fetchall()\n",
    "for x in myresult:\n",
    "  print(x)"
   ]
  },
  {
   "cell_type": "markdown",
   "metadata": {},
   "source": [
    "* Selecionando entre valores (between) e elemento em lista"
   ]
  },
  {
   "cell_type": "code",
   "execution_count": 8,
   "metadata": {},
   "outputs": [
    {
     "name": "stdout",
     "output_type": "stream",
     "text": [
      "(53, 'C', '50_142')\n",
      "(76, 'A', '65_168')\n",
      "(82, 'C', '23_116')\n",
      "(110, 'A', '34_129')\n",
      "(118, 'C', '5_149')\n",
      "(129, 'A', '59_167')\n",
      "(135, 'C', '100_119')\n",
      "(184, 'A', '77_110')\n",
      "(198, 'C', '1_105')\n"
     ]
    }
   ],
   "source": [
    "mycursor.execute(\"\"\"Select * from base\n",
    "where X between 50 AND 1000 AND\n",
    "Y in (\"A\",\"C\")\n",
    "\"\"\")\n",
    "myresult = mycursor.fetchall()\n",
    "for x in myresult:\n",
    "  print(x)"
   ]
  },
  {
   "cell_type": "markdown",
   "metadata": {},
   "source": [
    "* Selecionando por elemento extraido por substring"
   ]
  },
  {
   "cell_type": "code",
   "execution_count": 10,
   "metadata": {},
   "outputs": [
    {
     "name": "stdout",
     "output_type": "stream",
     "text": [
      "(119, 'D', '79_149')\n"
     ]
    }
   ],
   "source": [
    "mycursor.execute(\"\"\"Select *\n",
    "from base\n",
    "where substring(Z,4,3) = '149'\n",
    "\"\"\")\n",
    "myresult = mycursor.fetchall()\n",
    "for x in myresult:\n",
    "  print(x)"
   ]
  },
  {
   "cell_type": "markdown",
   "metadata": {},
   "source": [
    "* Selecionando transformando substring em inteiro"
   ]
  },
  {
   "cell_type": "code",
   "execution_count": 11,
   "metadata": {},
   "outputs": [
    {
     "name": "stdout",
     "output_type": "stream",
     "text": [
      "(102, 'E', '85_186')\n",
      "(104, 'F', '12_194')\n",
      "(106, 'G', '49_160')\n",
      "(110, 'A', '34_129')\n",
      "(111, 'B', '97_148')\n",
      "(119, 'D', '79_149')\n",
      "(120, 'E', '56_127')\n",
      "(121, 'F', '91_160')\n",
      "(129, 'A', '59_167')\n",
      "(146, 'D', '71_176')\n",
      "(147, 'E', '61_132')\n"
     ]
    }
   ],
   "source": [
    "mycursor.execute(\"\"\"Select *\n",
    "from base\n",
    "where X between 100 AND 150\n",
    "AND cast(substring(Z,4,3) as unsigned integer) > 120;\n",
    "\"\"\")\n",
    "myresult = mycursor.fetchall()\n",
    "for x in myresult:\n",
    "  print(x)"
   ]
  },
  {
   "cell_type": "markdown",
   "metadata": {},
   "source": [
    "* Selecionando um campo excluindo os espaços brancos antes e depois dos caracteres (trim)"
   ]
  },
  {
   "cell_type": "code",
   "execution_count": 14,
   "metadata": {},
   "outputs": [
    {
     "name": "stdout",
     "output_type": "stream",
     "text": [
      "(20, 'B', '26_105')\n",
      "(52, 'B', '42_133')\n",
      "(78, 'B', '4_128')\n",
      "(111, 'B', '97_148')\n",
      "(134, 'B', '58_105')\n",
      "(197, 'B', '81_161')\n"
     ]
    }
   ],
   "source": [
    "mycursor.execute(\"\"\"Select *\n",
    "from base\n",
    "where trim(Y) = \"B\";\n",
    "\"\"\")\n",
    "myresult = mycursor.fetchall()\n",
    "for x in myresult:\n",
    "  print(x)"
   ]
  },
  {
   "cell_type": "markdown",
   "metadata": {},
   "source": [
    "* Selecionando com base no campo acrescentando zeros a esquerda (lpad)"
   ]
  },
  {
   "cell_type": "code",
   "execution_count": 20,
   "metadata": {},
   "outputs": [
    {
     "name": "stdout",
     "output_type": "stream",
     "text": [
      "(8, 'A', '39_115')\n"
     ]
    }
   ],
   "source": [
    "mycursor.execute(\"\"\"Select *\n",
    "from base\n",
    "where lpad(X,2,\"0\") = \"08\";\n",
    "\"\"\")\n",
    "myresult = mycursor.fetchall()\n",
    "for x in myresult:\n",
    "  print(x)"
   ]
  },
  {
   "cell_type": "markdown",
   "metadata": {},
   "source": [
    "* Selecionando com base em campos concatenados"
   ]
  },
  {
   "cell_type": "code",
   "execution_count": 23,
   "metadata": {},
   "outputs": [
    {
     "name": "stdout",
     "output_type": "stream",
     "text": [
      "(20, 'B', '26_105')\n"
     ]
    }
   ],
   "source": [
    "mycursor.execute(\"\"\"Select *\n",
    "from base\n",
    "where concat(X,\"_\",Y) = \"20_B\";\n",
    "\"\"\")\n",
    "myresult = mycursor.fetchall()\n",
    "for x in myresult:\n",
    "  print(x)"
   ]
  },
  {
   "cell_type": "code",
   "execution_count": null,
   "metadata": {},
   "outputs": [],
   "source": []
  }
 ],
 "metadata": {
  "kernelspec": {
   "display_name": "Python 3",
   "language": "python",
   "name": "python3"
  },
  "language_info": {
   "codemirror_mode": {
    "name": "ipython",
    "version": 3
   },
   "file_extension": ".py",
   "mimetype": "text/x-python",
   "name": "python",
   "nbconvert_exporter": "python",
   "pygments_lexer": "ipython3",
   "version": "3.7.1"
  }
 },
 "nbformat": 4,
 "nbformat_minor": 4
}
