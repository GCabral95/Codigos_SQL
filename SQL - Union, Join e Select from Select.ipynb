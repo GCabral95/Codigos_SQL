{
 "cells": [
  {
   "cell_type": "code",
   "execution_count": 1,
   "metadata": {},
   "outputs": [
    {
     "name": "stdout",
     "output_type": "stream",
     "text": [
      "Requirement already satisfied: mysql-connector-python in c:\\users\\gcabr\\anaconda3\\lib\\site-packages (8.0.23)\n",
      "Requirement already satisfied: protobuf>=3.0.0 in c:\\users\\gcabr\\anaconda3\\lib\\site-packages (from mysql-connector-python) (3.15.1)\n",
      "Requirement already satisfied: six>=1.9 in c:\\users\\gcabr\\anaconda3\\lib\\site-packages (from protobuf>=3.0.0->mysql-connector-python) (1.15.0)\n"
     ]
    }
   ],
   "source": [
    "!pip install mysql-connector-python"
   ]
  },
  {
   "cell_type": "code",
   "execution_count": 2,
   "metadata": {},
   "outputs": [],
   "source": [
    "import mysql.connector\n",
    "\n",
    "mydb = mysql.connector.connect(host='localhost', user='root', passwd='xxx')"
   ]
  },
  {
   "cell_type": "code",
   "execution_count": 3,
   "metadata": {},
   "outputs": [],
   "source": [
    "mycursor = mydb.cursor()"
   ]
  },
  {
   "cell_type": "code",
   "execution_count": 4,
   "metadata": {},
   "outputs": [],
   "source": [
    "mycursor.execute(\"USE banco_basico\")"
   ]
  },
  {
   "cell_type": "markdown",
   "metadata": {},
   "source": [
    "* Usaremos as 03 tabelas a seguir com as seguintes colunas e seus tipos"
   ]
  },
  {
   "cell_type": "code",
   "execution_count": 5,
   "metadata": {},
   "outputs": [
    {
     "name": "stdout",
     "output_type": "stream",
     "text": [
      "('X', b'text', 'YES', '', None, '')\n",
      "('Y', b'int', 'YES', '', None, '')\n",
      "('Z', b'int', 'YES', '', None, '')\n"
     ]
    }
   ],
   "source": [
    "mycursor.execute(\"\"\"SHOW COLUMNS FROM merge_1_a;\n",
    "\"\"\")\n",
    "myresult = mycursor.fetchall()\n",
    "for x in myresult:\n",
    "  print(x)"
   ]
  },
  {
   "cell_type": "code",
   "execution_count": 6,
   "metadata": {},
   "outputs": [
    {
     "name": "stdout",
     "output_type": "stream",
     "text": [
      "('X', b'text', 'YES', '', None, '')\n",
      "('Y', b'int', 'YES', '', None, '')\n",
      "('Z', b'int', 'YES', '', None, '')\n"
     ]
    }
   ],
   "source": [
    "mycursor.execute(\"\"\"SHOW COLUMNS FROM merge_1_b;\n",
    "\"\"\")\n",
    "myresult = mycursor.fetchall()\n",
    "for x in myresult:\n",
    "  print(x)"
   ]
  },
  {
   "cell_type": "code",
   "execution_count": 7,
   "metadata": {},
   "outputs": [
    {
     "name": "stdout",
     "output_type": "stream",
     "text": [
      "('X', b'text', 'YES', '', None, '')\n",
      "('A', b'text', 'YES', '', None, '')\n"
     ]
    }
   ],
   "source": [
    "mycursor.execute(\"\"\"SHOW COLUMNS FROM merge_2;\n",
    "\"\"\")\n",
    "myresult = mycursor.fetchall()\n",
    "for x in myresult:\n",
    "  print(x)"
   ]
  },
  {
   "cell_type": "markdown",
   "metadata": {},
   "source": [
    "* Selecionado com base em uma tabela gerada pelo Union All\n",
    "    * Pode-se colocar condições em cada uma das tabelas do Union"
   ]
  },
  {
   "cell_type": "code",
   "execution_count": 11,
   "metadata": {},
   "outputs": [
    {
     "name": "stdout",
     "output_type": "stream",
     "text": [
      "('A', Decimal('106.0000'), 929)\n",
      "('B', Decimal('123.6000'), 985)\n",
      "('C', Decimal('123.6250'), 979)\n",
      "('D', Decimal('87.6250'), 871)\n",
      "('E', Decimal('69.6667'), 920)\n",
      "('F', Decimal('84.3333'), 912)\n"
     ]
    }
   ],
   "source": [
    "mycursor.execute(\"\"\"Select X, avg(Y) as media, max(Z) as maximo from\n",
    "(Select * from merge_1_a\n",
    "UNION ALL\n",
    "Select * from merge_1_b) as A\n",
    "group by X;\n",
    "\"\"\")\n",
    "myresult = mycursor.fetchall()\n",
    "for x in myresult:\n",
    "  print(x)"
   ]
  },
  {
   "cell_type": "markdown",
   "metadata": {},
   "source": [
    "* Gerando uma tabela diretamente através do Union All de duas tabelas"
   ]
  },
  {
   "cell_type": "code",
   "execution_count": 12,
   "metadata": {},
   "outputs": [
    {
     "name": "stdout",
     "output_type": "stream",
     "text": [
      "('A', Decimal('149.0000'), 'parte_1')\n",
      "('B', Decimal('198.0000'), 'parte_1')\n",
      "('C', Decimal('173.7500'), 'parte_1')\n",
      "('D', Decimal('132.0000'), 'parte_1')\n",
      "('E', Decimal('101.0000'), 'parte_1')\n",
      "('F', Decimal('116.6667'), 'parte_1')\n",
      "('A', Decimal('63.0000'), 'parte_2')\n",
      "('B', Decimal('49.2000'), 'parte_2')\n",
      "('C', Decimal('73.5000'), 'parte_2')\n",
      "('D', Decimal('43.2500'), 'parte_2')\n",
      "('E', Decimal('38.3333'), 'parte_2')\n",
      "('F', Decimal('52.0000'), 'parte_2')\n"
     ]
    }
   ],
   "source": [
    "mycursor.execute(\"\"\"Select X, avg(Y) as media, 'parte_1' as parte from merge_1_a group by X\n",
    "UNION ALL\n",
    "Select X, avg(Y) as media, 'parte_2' as parte from merge_1_b group by X;\n",
    "\"\"\")\n",
    "myresult = mycursor.fetchall()\n",
    "for x in myresult:\n",
    "  print(x)"
   ]
  },
  {
   "cell_type": "markdown",
   "metadata": {},
   "source": [
    "* Selecionando com base em left join\n",
    "    * Pode-se incluir condições em cada base do left join"
   ]
  },
  {
   "cell_type": "code",
   "execution_count": 21,
   "metadata": {},
   "outputs": [
    {
     "name": "stdout",
     "output_type": "stream",
     "text": [
      "('Blue', Decimal('149.0000'))\n",
      "('Red', Decimal('198.0000'))\n",
      "('Yellow', Decimal('173.7500'))\n",
      "('Brown', Decimal('132.0000'))\n",
      "('Orange', Decimal('101.0000'))\n",
      "(None, Decimal('116.6667'))\n"
     ]
    }
   ],
   "source": [
    "mycursor.execute(\"\"\"Select TB2.A, avg(TB1.Y) as media\n",
    "from (select * from merge_1_a) as TB1 \n",
    "left join (select * from merge_2) as TB2\n",
    "ON TB1.X = TB2.X\n",
    "group by TB2.A;\n",
    "\"\"\")\n",
    "myresult = mycursor.fetchall()\n",
    "for x in myresult:\n",
    "  print(x)"
   ]
  },
  {
   "cell_type": "markdown",
   "metadata": {},
   "source": [
    "* Selecionando com combinação entre Union All e Left Join"
   ]
  },
  {
   "cell_type": "code",
   "execution_count": 22,
   "metadata": {},
   "outputs": [
    {
     "name": "stdout",
     "output_type": "stream",
     "text": [
      "('A', Decimal('106.0000'), 'Blue')\n",
      "('B', Decimal('123.6000'), 'Red')\n",
      "('C', Decimal('123.6250'), 'Yellow')\n",
      "('D', Decimal('87.6250'), 'Brown')\n",
      "('E', Decimal('69.6667'), 'Orange')\n",
      "('F', Decimal('84.3333'), None)\n"
     ]
    }
   ],
   "source": [
    "mycursor.execute(\"\"\"Select TB2.X , TB2.media, TB3.A\n",
    "from (Select X, avg(Y) as media from\n",
    "        (Select * from merge_1_a\n",
    "        UNION ALL\n",
    "        Select * from merge_1_b) as TB1 group by X) as TB2\n",
    "left join \n",
    "(select * from merge_2) as TB3\n",
    "on TB2.X = TB3.X;\n",
    "\"\"\")\n",
    "myresult = mycursor.fetchall()\n",
    "for x in myresult:\n",
    "  print(x)"
   ]
  },
  {
   "cell_type": "code",
   "execution_count": null,
   "metadata": {},
   "outputs": [],
   "source": []
  }
 ],
 "metadata": {
  "kernelspec": {
   "display_name": "Python 3",
   "language": "python",
   "name": "python3"
  },
  "language_info": {
   "codemirror_mode": {
    "name": "ipython",
    "version": 3
   },
   "file_extension": ".py",
   "mimetype": "text/x-python",
   "name": "python",
   "nbconvert_exporter": "python",
   "pygments_lexer": "ipython3",
   "version": "3.7.1"
  }
 },
 "nbformat": 4,
 "nbformat_minor": 4
}
