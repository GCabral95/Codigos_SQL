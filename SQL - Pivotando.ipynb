{
 "cells": [
  {
   "cell_type": "code",
   "execution_count": 1,
   "metadata": {},
   "outputs": [
    {
     "name": "stdout",
     "output_type": "stream",
     "text": [
      "Requirement already satisfied: mysql-connector-python in c:\\users\\gcabr\\anaconda3\\lib\\site-packages (8.0.23)\n",
      "Requirement already satisfied: protobuf>=3.0.0 in c:\\users\\gcabr\\anaconda3\\lib\\site-packages (from mysql-connector-python) (3.15.1)\n",
      "Requirement already satisfied: six>=1.9 in c:\\users\\gcabr\\anaconda3\\lib\\site-packages (from protobuf>=3.0.0->mysql-connector-python) (1.15.0)\n"
     ]
    }
   ],
   "source": [
    "!pip install mysql-connector-python"
   ]
  },
  {
   "cell_type": "code",
   "execution_count": 2,
   "metadata": {},
   "outputs": [],
   "source": [
    "import mysql.connector\n",
    "\n",
    "mydb = mysql.connector.connect(host='localhost', user='root', passwd='xxxxxxxxx')"
   ]
  },
  {
   "cell_type": "code",
   "execution_count": 3,
   "metadata": {},
   "outputs": [],
   "source": [
    "mycursor = mydb.cursor()"
   ]
  },
  {
   "cell_type": "code",
   "execution_count": 6,
   "metadata": {},
   "outputs": [],
   "source": [
    "mycursor.execute(\"USE banco_testes\")"
   ]
  },
  {
   "cell_type": "markdown",
   "metadata": {},
   "source": [
    "* Mostrando as colunas"
   ]
  },
  {
   "cell_type": "code",
   "execution_count": 7,
   "metadata": {},
   "outputs": [
    {
     "name": "stdout",
     "output_type": "stream",
     "text": [
      "('VAR1', b'text', 'YES', '', None, '')\n",
      "('VAR2', b'text', 'YES', '', None, '')\n",
      "('VAR3', b'int', 'YES', '', None, '')\n",
      "('VAR4', b'int', 'YES', '', None, '')\n"
     ]
    }
   ],
   "source": [
    "mycursor.execute(\"\"\"SHOW COLUMNS FROM base_sql;\n",
    "\"\"\")\n",
    "myresult = mycursor.fetchall()\n",
    "for x in myresult:\n",
    "  print(x)"
   ]
  },
  {
   "cell_type": "markdown",
   "metadata": {},
   "source": [
    "* Visão inicial dos dados"
   ]
  },
  {
   "cell_type": "code",
   "execution_count": 8,
   "metadata": {},
   "outputs": [
    {
     "name": "stdout",
     "output_type": "stream",
     "text": [
      "('A', 'X1', 8, 433)\n",
      "('B', 'X1', 31, 214)\n",
      "('C', 'X1', 72, 474)\n",
      "('D', 'X1', 5, 428)\n",
      "('E', 'X2', 76, 396)\n"
     ]
    }
   ],
   "source": [
    "mycursor.execute(\"SELECT * FROM base_sql LIMIT 5\")\n",
    "myresult = mycursor.fetchall()\n",
    "for x in myresult:\n",
    "  print(x)"
   ]
  },
  {
   "cell_type": "markdown",
   "metadata": {},
   "source": [
    "* Transformando as variáveis quantativas em uma coluna única, com outra coluna com as labels das variáveis"
   ]
  },
  {
   "cell_type": "code",
   "execution_count": 16,
   "metadata": {},
   "outputs": [],
   "source": [
    "mycursor.execute(\"\"\"Create table pivot_teste as\n",
    "Select VAR1, VAR2,'VAR3' as VAR_NOVA, VAR3 as qttd from base_sql\n",
    "union all\n",
    "Select VAR1, VAR2,'VAR4' as VAR_NOVA, VAR4 as qttd from base_sql;\n",
    "\"\"\")"
   ]
  },
  {
   "cell_type": "markdown",
   "metadata": {},
   "source": [
    "* Criou-se a VAR_NOVA, que contém as labels das variáveis quantitativas (VAR3 e VAR4) e a variável qttd, com os valores quantitativos"
   ]
  },
  {
   "cell_type": "code",
   "execution_count": 13,
   "metadata": {},
   "outputs": [
    {
     "name": "stdout",
     "output_type": "stream",
     "text": [
      "('A', 'X1', 'VAR3', 8)\n",
      "('B', 'X1', 'VAR3', 31)\n",
      "('C', 'X1', 'VAR3', 72)\n",
      "('D', 'X1', 'VAR3', 5)\n",
      "('E', 'X2', 'VAR3', 76)\n",
      "('F', 'X2', 'VAR3', 88)\n",
      "('G', 'X2', 'VAR3', 99)\n",
      "('H', 'X2', 'VAR3', 94)\n",
      "('A', 'X1', 'VAR4', 433)\n",
      "('B', 'X1', 'VAR4', 214)\n",
      "('C', 'X1', 'VAR4', 474)\n",
      "('D', 'X1', 'VAR4', 428)\n",
      "('E', 'X2', 'VAR4', 396)\n",
      "('F', 'X2', 'VAR4', 295)\n",
      "('G', 'X2', 'VAR4', 367)\n",
      "('H', 'X2', 'VAR4', 463)\n"
     ]
    }
   ],
   "source": [
    "mycursor.execute(\"\"\"Select * from pivot_teste\n",
    "\"\"\")\n",
    "myresult = mycursor.fetchall()\n",
    "for x in myresult:\n",
    "  print(x)"
   ]
  },
  {
   "cell_type": "code",
   "execution_count": null,
   "metadata": {},
   "outputs": [],
   "source": []
  }
 ],
 "metadata": {
  "kernelspec": {
   "display_name": "Python 3",
   "language": "python",
   "name": "python3"
  },
  "language_info": {
   "codemirror_mode": {
    "name": "ipython",
    "version": 3
   },
   "file_extension": ".py",
   "mimetype": "text/x-python",
   "name": "python",
   "nbconvert_exporter": "python",
   "pygments_lexer": "ipython3",
   "version": "3.7.1"
  }
 },
 "nbformat": 4,
 "nbformat_minor": 4
}
